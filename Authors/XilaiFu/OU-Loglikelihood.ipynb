{
 "cells": [
  {
   "cell_type": "code",
   "execution_count": 3,
   "metadata": {},
   "outputs": [],
   "source": [
    "#Load data\n",
    "import pybisp as pb\n",
    "import pandas as pd\n",
    "from mip import *\n",
    "import math"
   ]
  },
  {
   "cell_type": "code",
   "execution_count": 200,
   "metadata": {},
   "outputs": [],
   "source": [
    "# load data\n",
    "data = pd.read_csv('Cleaned_WTI_WSC.csv') # read time series data "
   ]
  },
  {
   "cell_type": "code",
   "execution_count": 201,
   "metadata": {},
   "outputs": [],
   "source": [
    "## extact price difference and reverse the time order\n",
    "diff = pd.Series(list(data[\"WTI_WCS_diff\"])[::-1])"
   ]
  },
  {
   "cell_type": "code",
   "execution_count": 202,
   "metadata": {},
   "outputs": [],
   "source": [
    "# time delta is 1\n",
    "delta_t = 1"
   ]
  },
  {
   "cell_type": "code",
   "execution_count": 203,
   "metadata": {},
   "outputs": [],
   "source": [
    "n = len(diff)\n",
    "\n",
    "## generate an array of adjacent \n",
    "array = [[diff[i],diff[i+1]] for i in range(len(diff)-1)]"
   ]
  },
  {
   "cell_type": "code",
   "execution_count": 146,
   "metadata": {},
   "outputs": [
    {
     "name": "stdout",
     "output_type": "stream",
     "text": [
      "numbda is -2.627626391427155\n",
      "------------------------------\n",
      "sigma is 66.6577476009932\n",
      "------------------------------\n",
      "a is 18.270865406269994\n",
      "------------------------------\n"
     ]
    }
   ],
   "source": [
    "print(\"numbda is {}\".format(numbda))\n",
    "print(\"------------------------------\")\n",
    "print(\"sigma is {}\".format(sigma))\n",
    "print(\"------------------------------\")\n",
    "print(\"a is {}\".format(a))\n",
    "print(\"------------------------------\")"
   ]
  },
  {
   "cell_type": "markdown",
   "metadata": {},
   "source": [
    "# Method"
   ]
  },
  {
   "cell_type": "code",
   "execution_count": 208,
   "metadata": {},
   "outputs": [],
   "source": [
    "## components for u, lambda and sigma\n",
    "S_x = sum(diff[:n-1])\n",
    "S_y = sum(diff[1:n])\n",
    "S_xx = sum(np.square(diff[:n-1]))\n",
    "S_xy = sum([k[0]*k[1] for k in array])\n",
    "S_yy = sum(np.square(diff[1:n]))"
   ]
  },
  {
   "cell_type": "code",
   "execution_count": 209,
   "metadata": {},
   "outputs": [],
   "source": [
    "## mathematical expression for optimal u\n",
    "u = (S_y*S_xx-S_x*S_xy)/((n-1)*(S_xx-S_xy)-(S_x**2-S_x*S_y))"
   ]
  },
  {
   "cell_type": "code",
   "execution_count": 211,
   "metadata": {},
   "outputs": [],
   "source": [
    "## mathematical expression for optimal lambda\n",
    "lamda = -math.log((S_xy-u*S_x-u*S_y+(n-1)*u**2)/(S_xx-2*u*S_x+(n-1)*u**2))"
   ]
  },
  {
   "cell_type": "code",
   "execution_count": 215,
   "metadata": {},
   "outputs": [],
   "source": [
    "## mathematical expression for optimal sigma\n",
    "sigma = math.sqrt(2*lamda/(1-(math.exp(-lamda))**2))"
   ]
  },
  {
   "cell_type": "code",
   "execution_count": 217,
   "metadata": {},
   "outputs": [
    {
     "name": "stdout",
     "output_type": "stream",
     "text": [
      "numbda is 0.011928352054776574\n",
      "------------------------------\n",
      "sigma is 1.00597006920309\n",
      "------------------------------\n",
      "a is 16.310608289101527\n",
      "------------------------------\n"
     ]
    }
   ],
   "source": [
    "print(\"numbda is {}\".format(numbda))\n",
    "print(\"------------------------------\")\n",
    "print(\"sigma is {}\".format(sigma))\n",
    "print(\"------------------------------\")\n",
    "print(\"a is {}\".format(u))\n",
    "print(\"------------------------------\")"
   ]
  },
  {
   "cell_type": "code",
   "execution_count": null,
   "metadata": {},
   "outputs": [],
   "source": []
  }
 ],
 "metadata": {
  "kernelspec": {
   "display_name": "Python 3",
   "language": "python",
   "name": "python3"
  },
  "language_info": {
   "codemirror_mode": {
    "name": "ipython",
    "version": 3
   },
   "file_extension": ".py",
   "mimetype": "text/x-python",
   "name": "python",
   "nbconvert_exporter": "python",
   "pygments_lexer": "ipython3",
   "version": "3.7.6"
  },
  "toc": {
   "base_numbering": 1,
   "nav_menu": {},
   "number_sections": true,
   "sideBar": true,
   "skip_h1_title": false,
   "title_cell": "Table of Contents",
   "title_sidebar": "Contents",
   "toc_cell": false,
   "toc_position": {},
   "toc_section_display": true,
   "toc_window_display": false
  }
 },
 "nbformat": 4,
 "nbformat_minor": 4
}
